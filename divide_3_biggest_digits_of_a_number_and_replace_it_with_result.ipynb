{
 "cells": [
  {
   "cell_type": "markdown",
   "metadata": {},
   "source": [
    "### If a number is given and digits are in ascending order, divide the biggest 3 digits with 2 and replace them with the previous values\n",
    "suppose, num = 134689\n",
    "6/2 = 3; 8/2= 4; 9/2=4\n",
    "result = 134344"
   ]
  },
  {
   "cell_type": "code",
   "execution_count": 1,
   "metadata": {},
   "outputs": [
    {
     "name": "stdout",
     "output_type": "stream",
     "text": [
      "134344\n"
     ]
    }
   ],
   "source": [
    "num = 134689\n",
    "s = str(num)\n",
    "div_2 = []\n",
    "last_1_index = len(s)-3 #3\n",
    "# print(last_1_index)\n",
    "for i in range(last_1_index,len(s)):\n",
    "    # print(s[i])\n",
    "    div_2.append(int(s[i])//2)\n",
    "    \n",
    "    \n",
    "# print(div_2)\n",
    "s = s[:-3]\n",
    "l = list(s)\n",
    "# print(s)\n",
    "for i in div_2:\n",
    "    # print(i)\n",
    "    l.append(str(i))\n",
    "l = list(map(int, l))    \n",
    "# print(l)\n",
    "strings = [str(integer) for integer in l]\n",
    "a_string = \"\".join(strings)\n",
    "an_integer = int(a_string)\n",
    "\n",
    "print(an_integer)"
   ]
  },
  {
   "cell_type": "code",
   "execution_count": null,
   "metadata": {},
   "outputs": [],
   "source": []
  }
 ],
 "metadata": {
  "kernelspec": {
   "display_name": "Python 3",
   "language": "python",
   "name": "python3"
  },
  "language_info": {
   "codemirror_mode": {
    "name": "ipython",
    "version": 3
   },
   "file_extension": ".py",
   "mimetype": "text/x-python",
   "name": "python",
   "nbconvert_exporter": "python",
   "pygments_lexer": "ipython3",
   "version": "3.7.4"
  }
 },
 "nbformat": 4,
 "nbformat_minor": 4
}
